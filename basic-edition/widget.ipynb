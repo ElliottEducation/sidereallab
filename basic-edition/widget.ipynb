{
 "cells": [
  {
   "cell_type": "code",
   "execution_count": null,
   "id": "f5ff829d-5890-4e7b-9bb5-b26c298562a9",
   "metadata": {},
   "outputs": [],
   "source": [
    "import numpy as np\n",
    "import ipywidgets as widgets\n",
    "from IPython.display import display, Markdown\n",
    "\n",
    "# modes\n",
    "lat_input = widgets.FloatText(description='Lat (°):', value=30.0)\n",
    "delta_t_input = widgets.FloatText(description='Time difference (s):', value=86164.0)\n",
    "button = widgets.Button(description='Calculating', button_style='success')\n",
    "output = widgets.Output()\n",
    "\n",
    "# functions\n",
    "def on_click(b):\n",
    "    with output:\n",
    "        output.clear_output()\n",
    "        lat = lat_input.value\n",
    "        delta_t = delta_t_input.value\n",
    "        R = 6371000  # Earth's Radius\n",
    "        v = 2 * np.pi * R * np.cos(np.radians(lat)) / delta_t\n",
    "        display(Markdown(f\"### 🌍 Local Rotional Speed: `{v:.2f} m/s`\"))\n",
    "\n",
    "button.on_click(on_click)\n",
    "\n",
    "# Display all modes\n",
    "display(widgets.VBox([lat_input, delta_t_input, button, output]))\n"
   ]
  }
 ],
 "metadata": {
  "kernelspec": {
   "display_name": "Python 3 (ipykernel)",
   "language": "python",
   "name": "python3"
  },
  "language_info": {
   "codemirror_mode": {
    "name": "ipython",
    "version": 3
   },
   "file_extension": ".py",
   "mimetype": "text/x-python",
   "name": "python",
   "nbconvert_exporter": "python",
   "pygments_lexer": "ipython3",
   "version": "3.8.20"
  }
 },
 "nbformat": 4,
 "nbformat_minor": 5
}
