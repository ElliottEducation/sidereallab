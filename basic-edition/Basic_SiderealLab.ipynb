{
 "cells": [
  {
   "cell_type": "markdown",
   "id": "f601a20d-0ccc-4da7-aeef-ecce4741bb1c",
   "metadata": {},
   "source": [
    "# SiderealLab - Measure Your Local Earth's Rotational Speed by Using an Equatorial Mount (Basic Edition)"
   ]
  },
  {
   "cell_type": "markdown",
   "id": "17be9fd0-f066-4d54-9587-32631e016cdc",
   "metadata": {},
   "source": [
    "## I. Experiment Purpose (Basic Edition)"
   ]
  },
  {
   "cell_type": "markdown",
   "id": "48d06ca4-dcab-41a3-b730-12cf3e252531",
   "metadata": {},
   "source": [
    "This basic edition experiment is to understand and calculate the Earth's rotational speed at a given location by observing the time difference of a specific star appearing at the same celestial position over consecutive nights. \n",
    "\n",
    "The main goal is to help students or astronomy enthusiasts grasp the methods used to calculate Earth's rotational speed, especially how observational data can be applied to real-world calculations."
   ]
  },
  {
   "cell_type": "markdown",
   "id": "f67aa57f-1fc8-4c03-86a2-6e46dc52769a",
   "metadata": {},
   "source": [
    "## II. Experiment Objectives"
   ]
  },
  {
   "cell_type": "markdown",
   "id": "31be4e61-1575-406c-9be5-fa120260a278",
   "metadata": {},
   "source": [
    "1. Understand the Basics of Earth's Rotation\n",
    "\n",
    "2. Calculate Earth's Rotational Speed from Observation Data\n",
    "\n",
    "3. Latitude's Effect on Rotational Speed\n",
    "\n",
    "4. Hands-on Data Analysis and Calculation"
   ]
  },
  {
   "cell_type": "markdown",
   "id": "91f8a96f-47f1-4a36-b4e6-ff12d603de0a",
   "metadata": {},
   "source": [
    "## III. Step Instruction"
   ]
  },
  {
   "cell_type": "markdown",
   "id": "4ee5ee59-2c36-4a8e-b8c0-64de81c0b07d",
   "metadata": {},
   "source": [
    "### Step 1 - Calibrate the EQ Mount"
   ]
  },
  {
   "cell_type": "markdown",
   "id": "0b9385f2-29a8-42e6-a9ed-b8034678337c",
   "metadata": {},
   "source": [
    "Ensure the equatorial mount is properly aligned with the celestial pole for accurate observations."
   ]
  },
  {
   "cell_type": "markdown",
   "id": "e81fbde6-4f81-42ce-a2ec-51be3b809507",
   "metadata": {},
   "source": [
    "### Step 2 - Find Sirius and Record Data"
   ]
  },
  {
   "cell_type": "markdown",
   "id": "53c16df5-72dd-41c1-a777-1d1ec766aea4",
   "metadata": {},
   "source": [
    "Find your selected bright star, in this case, I use the Sirius, record the current time (in UTC), and note Sirius’s Right Ascension (RA) and Declination (Dec) from the mount’s settings or connected device.\n",
    "\n",
    "RA is the celestial equivalent of longitude, and Dec is equivalent to latitude."
   ]
  },
  {
   "cell_type": "markdown",
   "id": "8dbed02a-2ce7-45b4-97d4-27e7c446db03",
   "metadata": {},
   "source": [
    "### Step 3 - Recording Time and Observation Duration\n"
   ]
  },
  {
   "cell_type": "markdown",
   "id": "54efb2ec-cabd-4219-a29e-56e899082a09",
   "metadata": {},
   "source": [
    "If possible, leave the EQ Mount at the same location/site for at least 24 hours, check the stopwatch approaching the 23rd hour, and switch on the Mount again to calibrate it to the correct setting.\n",
    "\n",
    "This will help in measuring the length of a sidereal day.\n",
    "\n"
   ]
  },
  {
   "cell_type": "markdown",
   "id": "dececf37-0718-43c3-a24e-29cf71289d05",
   "metadata": {},
   "source": [
    "### Step 4 - Data Analysis and Calculations"
   ]
  },
  {
   "cell_type": "markdown",
   "id": "08992d80-958f-4e93-acdf-eec86c11ab59",
   "metadata": {},
   "source": [
    "In the Data Analysis section, we have variety of different modes in both Standard and Pro editions. \n",
    "\n",
    "In this Standard edition, users need to input local latitude value and local radius manually."
   ]
  },
  {
   "cell_type": "markdown",
   "id": "254b255d-7511-4f80-b882-c2214f92ab1c",
   "metadata": {},
   "source": [
    "### Step 5 - Visualization of Rotation Speed"
   ]
  },
  {
   "cell_type": "markdown",
   "id": "5b752a87-2173-4330-a180-9503a1339bca",
   "metadata": {},
   "source": [
    "Create a graph showing how the Earth's rotational speed varies with latitude.\n",
    "The speed is highest at the equator and decreases as you move towards the poles.\n"
   ]
  },
  {
   "cell_type": "markdown",
   "id": "c09c65d0-fa7d-4e84-b52d-c43cc4ee6cfc",
   "metadata": {},
   "source": [
    "### Step 6 - Final Summary and Exaplanation"
   ]
  },
  {
   "cell_type": "markdown",
   "id": "875d6207-4029-44c2-8ba5-26e346c89e05",
   "metadata": {},
   "source": [
    "Find Sydney's local latitude by any of the preferred GPA apps or webpage; latitude (ϕ) is xy.ab degrees"
   ]
  },
  {
   "cell_type": "markdown",
   "id": "149b1644-2ffc-46d4-a07f-d581d2ec1dc3",
   "metadata": {},
   "source": [
    "#### Required physical numbers"
   ]
  },
  {
   "cell_type": "markdown",
   "id": "58a4bd40-2737-48a7-8b37-51db5e19ceec",
   "metadata": {},
   "source": [
    "Term|Meaning|Number and Unit\n",
    "---|:--:|---:\n",
    "$R_e$|Earth's Radius at Equator|6378.137km\n",
    "$R_(\\varphi)$|Earth's Radius at Your location|Calculate\n",
    "$\\varphi$|Your Local Latitude|Search or check\n",
    "$\\Delta T$|Time Difference of at least two consecutive nights|Calculate\n",
    "$v$|Earth's rotational speed|Final calculation"
   ]
  },
  {
   "cell_type": "markdown",
   "id": "4f04567e-af84-4e90-ae76-1bc2fa810d90",
   "metadata": {},
   "source": [
    "## IV. Data Analysis (Step by Step)"
   ]
  },
  {
   "cell_type": "markdown",
   "id": "090bfd16-5b80-4aaa-96f1-390fc06c890f",
   "metadata": {},
   "source": [
    "### Import required or useful libraries"
   ]
  },
  {
   "cell_type": "code",
   "execution_count": 17,
   "id": "1a6491a7-dc0d-476e-9b7e-8332382314e6",
   "metadata": {},
   "outputs": [
    {
     "name": "stdout",
     "output_type": "stream",
     "text": [
      "Collecting streamlit\n",
      "  Downloading streamlit-1.40.1-py2.py3-none-any.whl.metadata (8.5 kB)\n",
      "Collecting altair<6,>=4.0 (from streamlit)\n",
      "  Downloading altair-5.4.1-py3-none-any.whl.metadata (9.4 kB)\n",
      "Collecting blinker<2,>=1.0.0 (from streamlit)\n",
      "  Downloading blinker-1.8.2-py3-none-any.whl.metadata (1.6 kB)\n",
      "Requirement already satisfied: cachetools<6,>=4.0 in /Users/et137/anaconda3/lib/python3.8/site-packages (from streamlit) (4.2.2)\n",
      "Requirement already satisfied: click<9,>=7.0 in /Users/et137/anaconda3/lib/python3.8/site-packages (from streamlit) (8.1.7)\n",
      "Requirement already satisfied: numpy<3,>=1.20 in /Users/et137/anaconda3/lib/python3.8/site-packages (from streamlit) (1.24.3)\n",
      "Requirement already satisfied: packaging<25,>=20 in /Users/et137/anaconda3/lib/python3.8/site-packages (from streamlit) (23.2)\n",
      "Requirement already satisfied: pandas<3,>=1.4.0 in /Users/et137/anaconda3/lib/python3.8/site-packages (from streamlit) (2.0.3)\n",
      "Requirement already satisfied: pillow<12,>=7.1.0 in /Users/et137/anaconda3/lib/python3.8/site-packages (from streamlit) (10.2.0)\n",
      "Requirement already satisfied: protobuf<6,>=3.20 in /Users/et137/anaconda3/lib/python3.8/site-packages (from streamlit) (3.20.3)\n",
      "Collecting pyarrow>=7.0 (from streamlit)\n",
      "  Downloading pyarrow-17.0.0-cp38-cp38-macosx_10_15_x86_64.whl.metadata (3.3 kB)\n",
      "Requirement already satisfied: requests<3,>=2.27 in /Users/et137/anaconda3/lib/python3.8/site-packages (from streamlit) (2.31.0)\n",
      "Requirement already satisfied: rich<14,>=10.14.0 in /Users/et137/anaconda3/lib/python3.8/site-packages (from streamlit) (13.3.5)\n",
      "Requirement already satisfied: tenacity<10,>=8.1.0 in /Users/et137/anaconda3/lib/python3.8/site-packages (from streamlit) (8.2.2)\n",
      "Requirement already satisfied: toml<2,>=0.10.1 in /Users/et137/anaconda3/lib/python3.8/site-packages (from streamlit) (0.10.2)\n",
      "Requirement already satisfied: typing-extensions<5,>=4.3.0 in /Users/et137/anaconda3/lib/python3.8/site-packages (from streamlit) (4.9.0)\n",
      "Collecting gitpython!=3.1.19,<4,>=3.0.7 (from streamlit)\n",
      "  Downloading GitPython-3.1.44-py3-none-any.whl.metadata (13 kB)\n",
      "Collecting pydeck<1,>=0.8.0b4 (from streamlit)\n",
      "  Downloading pydeck-0.9.1-py2.py3-none-any.whl.metadata (4.1 kB)\n",
      "Requirement already satisfied: tornado<7,>=6.0.3 in /Users/et137/anaconda3/lib/python3.8/site-packages (from streamlit) (6.3.3)\n",
      "Requirement already satisfied: jinja2 in /Users/et137/anaconda3/lib/python3.8/site-packages (from altair<6,>=4.0->streamlit) (3.1.3)\n",
      "Requirement already satisfied: jsonschema>=3.0 in /Users/et137/anaconda3/lib/python3.8/site-packages (from altair<6,>=4.0->streamlit) (4.19.2)\n",
      "Collecting narwhals>=1.5.2 (from altair<6,>=4.0->streamlit)\n",
      "  Downloading narwhals-1.33.0-py3-none-any.whl.metadata (9.2 kB)\n",
      "Collecting typing-extensions<5,>=4.3.0 (from streamlit)\n",
      "  Downloading typing_extensions-4.13.1-py3-none-any.whl.metadata (3.0 kB)\n",
      "Collecting gitdb<5,>=4.0.1 (from gitpython!=3.1.19,<4,>=3.0.7->streamlit)\n",
      "  Downloading gitdb-4.0.12-py3-none-any.whl.metadata (1.2 kB)\n",
      "Requirement already satisfied: python-dateutil>=2.8.2 in /Users/et137/anaconda3/lib/python3.8/site-packages (from pandas<3,>=1.4.0->streamlit) (2.8.2)\n",
      "Requirement already satisfied: pytz>=2020.1 in /Users/et137/anaconda3/lib/python3.8/site-packages (from pandas<3,>=1.4.0->streamlit) (2023.3.post1)\n",
      "Requirement already satisfied: tzdata>=2022.1 in /Users/et137/anaconda3/lib/python3.8/site-packages (from pandas<3,>=1.4.0->streamlit) (2023.3)\n",
      "Requirement already satisfied: charset-normalizer<4,>=2 in /Users/et137/anaconda3/lib/python3.8/site-packages (from requests<3,>=2.27->streamlit) (2.0.4)\n",
      "Requirement already satisfied: idna<4,>=2.5 in /Users/et137/anaconda3/lib/python3.8/site-packages (from requests<3,>=2.27->streamlit) (3.4)\n",
      "Requirement already satisfied: urllib3<3,>=1.21.1 in /Users/et137/anaconda3/lib/python3.8/site-packages (from requests<3,>=2.27->streamlit) (1.26.18)\n",
      "Requirement already satisfied: certifi>=2017.4.17 in /Users/et137/anaconda3/lib/python3.8/site-packages (from requests<3,>=2.27->streamlit) (2024.2.2)\n",
      "Requirement already satisfied: markdown-it-py<3.0.0,>=2.2.0 in /Users/et137/anaconda3/lib/python3.8/site-packages (from rich<14,>=10.14.0->streamlit) (2.2.0)\n",
      "Requirement already satisfied: pygments<3.0.0,>=2.13.0 in /Users/et137/anaconda3/lib/python3.8/site-packages (from rich<14,>=10.14.0->streamlit) (2.15.1)\n",
      "Collecting smmap<6,>=3.0.1 (from gitdb<5,>=4.0.1->gitpython!=3.1.19,<4,>=3.0.7->streamlit)\n",
      "  Downloading smmap-5.0.2-py3-none-any.whl.metadata (4.3 kB)\n",
      "Requirement already satisfied: MarkupSafe>=2.0 in /Users/et137/anaconda3/lib/python3.8/site-packages (from jinja2->altair<6,>=4.0->streamlit) (2.1.3)\n",
      "Requirement already satisfied: attrs>=22.2.0 in /Users/et137/anaconda3/lib/python3.8/site-packages (from jsonschema>=3.0->altair<6,>=4.0->streamlit) (23.1.0)\n",
      "Requirement already satisfied: importlib-resources>=1.4.0 in /Users/et137/anaconda3/lib/python3.8/site-packages (from jsonschema>=3.0->altair<6,>=4.0->streamlit) (6.1.1)\n",
      "Requirement already satisfied: jsonschema-specifications>=2023.03.6 in /Users/et137/anaconda3/lib/python3.8/site-packages (from jsonschema>=3.0->altair<6,>=4.0->streamlit) (2023.7.1)\n",
      "Requirement already satisfied: pkgutil-resolve-name>=1.3.10 in /Users/et137/anaconda3/lib/python3.8/site-packages (from jsonschema>=3.0->altair<6,>=4.0->streamlit) (1.3.10)\n",
      "Requirement already satisfied: referencing>=0.28.4 in /Users/et137/anaconda3/lib/python3.8/site-packages (from jsonschema>=3.0->altair<6,>=4.0->streamlit) (0.30.2)\n",
      "Requirement already satisfied: rpds-py>=0.7.1 in /Users/et137/anaconda3/lib/python3.8/site-packages (from jsonschema>=3.0->altair<6,>=4.0->streamlit) (0.10.6)\n",
      "Requirement already satisfied: mdurl~=0.1 in /Users/et137/anaconda3/lib/python3.8/site-packages (from markdown-it-py<3.0.0,>=2.2.0->rich<14,>=10.14.0->streamlit) (0.1.0)\n",
      "Requirement already satisfied: six>=1.5 in /Users/et137/anaconda3/lib/python3.8/site-packages (from python-dateutil>=2.8.2->pandas<3,>=1.4.0->streamlit) (1.16.0)\n",
      "Requirement already satisfied: zipp>=3.1.0 in /Users/et137/anaconda3/lib/python3.8/site-packages (from importlib-resources>=1.4.0->jsonschema>=3.0->altair<6,>=4.0->streamlit) (3.17.0)\n",
      "Downloading streamlit-1.40.1-py2.py3-none-any.whl (8.6 MB)\n",
      "\u001b[2K   \u001b[38;2;114;156;31m━━━━━━━━━━━━━━━━━━━━━━━━━━━━━━━━━━━━━━━━\u001b[0m \u001b[32m8.6/8.6 MB\u001b[0m \u001b[31m8.8 MB/s\u001b[0m eta \u001b[36m0:00:00\u001b[0mm eta \u001b[36m0:00:01\u001b[0m0:01\u001b[0m:01\u001b[0mm\n",
      "\u001b[?25hDownloading altair-5.4.1-py3-none-any.whl (658 kB)\n",
      "\u001b[2K   \u001b[38;2;114;156;31m━━━━━━━━━━━━━━━━━━━━━━━━━━━━━━━━━━━━━━━━\u001b[0m \u001b[32m658.1/658.1 kB\u001b[0m \u001b[31m9.4 MB/s\u001b[0m eta \u001b[36m0:00:00\u001b[0m[31m13.7 MB/s\u001b[0m eta \u001b[36m0:00:01\u001b[0m\n",
      "\u001b[?25hDownloading blinker-1.8.2-py3-none-any.whl (9.5 kB)\n",
      "Downloading GitPython-3.1.44-py3-none-any.whl (207 kB)\n",
      "\u001b[2K   \u001b[38;2;114;156;31m━━━━━━━━━━━━━━━━━━━━━━━━━━━━━━━━━━━━━━━━\u001b[0m \u001b[32m207.6/207.6 kB\u001b[0m \u001b[31m6.1 MB/s\u001b[0m eta \u001b[36m0:00:00\u001b[0m\n",
      "\u001b[?25hDownloading pyarrow-17.0.0-cp38-cp38-macosx_10_15_x86_64.whl (29.0 MB)\n",
      "\u001b[2K   \u001b[38;2;114;156;31m━━━━━━━━━━━━━━━━━━━━━━━━━━━━━━━━━━━━━━━━\u001b[0m \u001b[32m29.0/29.0 MB\u001b[0m \u001b[31m12.7 MB/s\u001b[0m eta \u001b[36m0:00:00\u001b[0mm eta \u001b[36m0:00:01\u001b[0m0:01\u001b[0m:01\u001b[0m\n",
      "\u001b[?25hDownloading pydeck-0.9.1-py2.py3-none-any.whl (6.9 MB)\n",
      "\u001b[2K   \u001b[38;2;114;156;31m━━━━━━━━━━━━━━━━━━━━━━━━━━━━━━━━━━━━━━━━\u001b[0m \u001b[32m6.9/6.9 MB\u001b[0m \u001b[31m12.7 MB/s\u001b[0m eta \u001b[36m0:00:00\u001b[0mm eta \u001b[36m0:00:01\u001b[0m0:01\u001b[0m:01\u001b[0m\n",
      "\u001b[?25hDownloading typing_extensions-4.13.1-py3-none-any.whl (45 kB)\n",
      "\u001b[2K   \u001b[38;2;114;156;31m━━━━━━━━━━━━━━━━━━━━━━━━━━━━━━━━━━━━━━━━\u001b[0m \u001b[32m45.7/45.7 kB\u001b[0m \u001b[31m1.5 MB/s\u001b[0m eta \u001b[36m0:00:00\u001b[0m\n",
      "\u001b[?25hDownloading gitdb-4.0.12-py3-none-any.whl (62 kB)\n",
      "\u001b[2K   \u001b[38;2;114;156;31m━━━━━━━━━━━━━━━━━━━━━━━━━━━━━━━━━━━━━━━━\u001b[0m \u001b[32m62.8/62.8 kB\u001b[0m \u001b[31m2.4 MB/s\u001b[0m eta \u001b[36m0:00:00\u001b[0m\n",
      "\u001b[?25hDownloading narwhals-1.33.0-py3-none-any.whl (322 kB)\n",
      "\u001b[2K   \u001b[38;2;114;156;31m━━━━━━━━━━━━━━━━━━━━━━━━━━━━━━━━━━━━━━━━\u001b[0m \u001b[32m322.8/322.8 kB\u001b[0m \u001b[31m6.7 MB/s\u001b[0m eta \u001b[36m0:00:00\u001b[0m\u001b[36m0:00:01\u001b[0m\n",
      "\u001b[?25hDownloading smmap-5.0.2-py3-none-any.whl (24 kB)\n",
      "Installing collected packages: typing-extensions, smmap, pyarrow, narwhals, blinker, pydeck, gitdb, gitpython, altair, streamlit\n",
      "  Attempting uninstall: typing-extensions\n",
      "    Found existing installation: typing_extensions 4.9.0\n",
      "    Uninstalling typing_extensions-4.9.0:\n",
      "      Successfully uninstalled typing_extensions-4.9.0\n",
      "Successfully installed altair-5.4.1 blinker-1.8.2 gitdb-4.0.12 gitpython-3.1.44 narwhals-1.33.0 pyarrow-17.0.0 pydeck-0.9.1 smmap-5.0.2 streamlit-1.40.1 typing-extensions-4.13.1\n",
      "\n",
      "\u001b[1m[\u001b[0m\u001b[34;49mnotice\u001b[0m\u001b[1;39;49m]\u001b[0m\u001b[39;49m A new release of pip is available: \u001b[0m\u001b[31;49m23.0.1\u001b[0m\u001b[39;49m -> \u001b[0m\u001b[32;49m25.0.1\u001b[0m\n",
      "\u001b[1m[\u001b[0m\u001b[34;49mnotice\u001b[0m\u001b[1;39;49m]\u001b[0m\u001b[39;49m To update, run: \u001b[0m\u001b[32;49mpip install --upgrade pip\u001b[0m\n",
      "Note: you may need to restart the kernel to use updated packages.\n"
     ]
    }
   ],
   "source": [
    "pip install streamlit\n",
    "\n",
    "pip install "
   ]
  },
  {
   "cell_type": "code",
   "execution_count": 19,
   "id": "a55b88a2-fbfb-4a6b-bd32-24316cbef0a2",
   "metadata": {},
   "outputs": [
    {
     "name": "stdout",
     "output_type": "stream",
     "text": [
      "Collecting geopy\n",
      "  Downloading geopy-2.4.1-py3-none-any.whl.metadata (6.8 kB)\n",
      "Collecting geographiclib<3,>=1.52 (from geopy)\n",
      "  Downloading geographiclib-2.0-py3-none-any.whl.metadata (1.4 kB)\n",
      "Downloading geopy-2.4.1-py3-none-any.whl (125 kB)\n",
      "\u001b[2K   \u001b[38;2;114;156;31m━━━━━━━━━━━━━━━━━━━━━━━━━━━━━━━━━━━━━━━━\u001b[0m \u001b[32m125.4/125.4 kB\u001b[0m \u001b[31m2.4 MB/s\u001b[0m eta \u001b[36m0:00:00\u001b[0m[36m0:00:01\u001b[0m\n",
      "\u001b[?25hDownloading geographiclib-2.0-py3-none-any.whl (40 kB)\n",
      "\u001b[2K   \u001b[38;2;114;156;31m━━━━━━━━━━━━━━━━━━━━━━━━━━━━━━━━━━━━━━━━\u001b[0m \u001b[32m40.3/40.3 kB\u001b[0m \u001b[31m1.4 MB/s\u001b[0m eta \u001b[36m0:00:00\u001b[0m\n",
      "\u001b[?25hInstalling collected packages: geographiclib, geopy\n",
      "Successfully installed geographiclib-2.0 geopy-2.4.1\n",
      "\n",
      "\u001b[1m[\u001b[0m\u001b[34;49mnotice\u001b[0m\u001b[1;39;49m]\u001b[0m\u001b[39;49m A new release of pip is available: \u001b[0m\u001b[31;49m23.0.1\u001b[0m\u001b[39;49m -> \u001b[0m\u001b[32;49m25.0.1\u001b[0m\n",
      "\u001b[1m[\u001b[0m\u001b[34;49mnotice\u001b[0m\u001b[1;39;49m]\u001b[0m\u001b[39;49m To update, run: \u001b[0m\u001b[32;49mpip install --upgrade pip\u001b[0m\n",
      "Note: you may need to restart the kernel to use updated packages.\n"
     ]
    }
   ],
   "source": [
    "pip install geopy"
   ]
  },
  {
   "cell_type": "code",
   "execution_count": 1,
   "id": "b33133da-922a-43e2-b953-0f0d8754d5a8",
   "metadata": {},
   "outputs": [],
   "source": [
    "import numpy as np\n",
    "import matplotlib.pyplot as plt"
   ]
  },
  {
   "cell_type": "markdown",
   "id": "5479e2f9-9402-4b0b-ae40-4d51034fb213",
   "metadata": {},
   "source": [
    "The code section below as the Standard version of codes, it needs users input all data and numbers manually"
   ]
  },
  {
   "cell_type": "markdown",
   "id": "8fd00404-2eb4-4f86-a26c-6d76de083da0",
   "metadata": {},
   "source": [
    "#### 1. Calculate your local rotation speed with graph (Find and Enter data manually)"
   ]
  },
  {
   "cell_type": "code",
   "execution_count": 6,
   "id": "518298ce-1360-4b1d-b813-9ffceade7e1f",
   "metadata": {},
   "outputs": [
    {
     "name": "stdout",
     "output_type": "stream",
     "text": [
      "At latitude -30°, the Earth's rotation speed is 402.33 m/s.\n"
     ]
    },
    {
     "data": {
      "image/png": "[encoded data removed]",
      "text/plain": [
       "<Figure size 800x500 with 1 Axes>"
      ]
     },
     "metadata": {},
     "output_type": "display_data"
    }
   ],
   "source": [
    "def earth_rotation_speed(latitude):\n",
    "    \"\"\"\n",
    "    calculate the Earth's rotational speed（m/s）。\n",
    "    \n",
    "    parametre:\n",
    "        latitude (float): latitude（degrees）\n",
    "        \n",
    "    return:\n",
    "        float: the matched Earth's rotational speed（m/s）\n",
    "    \"\"\"\n",
    "    omega = 7.292e-5  # Earth's angular velocity (rad/s)\n",
    "    R = 6.371e6  # Earth's mean radius (m)\n",
    "    phi = np.radians(latitude)  # degree convert to rad\n",
    "    v = omega * R * np.cos(phi)\n",
    "    return v\n",
    "\n",
    "# Demo: Calculate the rotational speed at a specific and customised latitude\n",
    "latitude = -30  # Enter you local latitude manually, such as mine is -30° in latitude, it represents a location in the Southern Hemisphere. A positive latitude represents a location in the Northern Hemisphere \n",
    "speed = earth_rotation_speed(latitude)\n",
    "print(f\"At latitude {latitude}°, the Earth's rotation speed is {speed:.2f} m/s.\")\n",
    "\n",
    "# Demo for Data Viz: Earth's rotational speed numbers at different latitude points\n",
    "latitudes = np.linspace(-90, 90, 100)  # latitude rangs from -90° to 90° \n",
    "speeds = earth_rotation_speed(latitudes)\n",
    "\n",
    "plt.figure(figsize=(8, 5))\n",
    "plt.plot(latitudes, speeds, label=\"Earth Rotation Speed\", color=\"b\")\n",
    "plt.xlabel(\"Latitude (°)\")\n",
    "plt.ylabel(\"Rotation Speed (m/s)\")\n",
    "plt.title(\"Earth Rotation Speed vs. Latitude\")\n",
    "plt.axhline(0, color='black', linestyle=\"--\")\n",
    "plt.legend()\n",
    "plt.grid()\n",
    "plt.show()\n"
   ]
  },
  {
   "cell_type": "markdown",
   "id": "de48b99d-97ba-4da9-86ac-f39ee442fd28",
   "metadata": {},
   "source": [
    "#### 2. Calculate the change of positions for a consecutive two nights manually"
   ]
  },
  {
   "cell_type": "code",
   "execution_count": 3,
   "id": "6dd185b6-36d0-4266-b470-324fd5cc5448",
   "metadata": {},
   "outputs": [
    {
     "name": "stdout",
     "output_type": "stream",
     "text": [
      "angular shift: 7.2443 degrees, motion rate: 0.3044 degrees/hour\n"
     ]
    },
    {
     "data": {
      "image/png": "[encoded data removed]",
      "text/plain": [
       "<Figure size 640x480 with 1 Axes>"
      ]
     },
     "metadata": {},
     "output_type": "display_data"
    }
   ],
   "source": [
    "# Calculate the change of positions for a consecutive two nights\n",
    "def celestial_motion(ra1, dec1, ra2, dec2, time_diff):\n",
    "    \"\"\"\n",
    "    Calculate the angular motion rate of the target star between two consecutive nights (degrees/h)\n",
    "    \n",
    "    Parameters:\n",
    "        ra1, dec1: Right Ascension & Declination on the 1st Night (in degrees)\n",
    "        ra2, dec2: Right Ascension & Declination on the 2nd (next) Night (in degrees) \n",
    "        time_diff: The real time interval between the two observations (in hours) \n",
    "        \n",
    "    Return:\n",
    "        Angular displacement (degrees), motion rate (degrees/hour)\n",
    "    \"\"\"\n",
    "    delta_ra = ra2 - ra1\n",
    "    delta_dec = dec2 - dec1\n",
    "    angular_shift = np.sqrt(delta_ra**2 + delta_dec**2)  # angular displacement\n",
    "    motion_rate = angular_shift / time_diff  # angular speed\n",
    "    return angular_shift, motion_rate\n",
    "\n",
    "# Demo\n",
    "ra1, dec1 = 10.5, 20.3  # Night 1's RA and Dec\n",
    "ra2, dec2 = 17.7, 19.5  # Night 2's RA and Dec\n",
    "time_diff = 23.8  # 24 hours\n",
    "\n",
    "angular_shift, motion_rate = celestial_motion(ra1, dec1, ra2, dec2, time_diff)\n",
    "print(f\"angular shift: {angular_shift:.4f} degrees, motion rate: {motion_rate:.4f} degrees/hour\")\n",
    "\n",
    "# Data Viz\n",
    "plt.plot([ra1, ra2], [dec1, dec2], 'ro-', label=\"Celestial Motion\")\n",
    "plt.xlabel(\"RA (°)\")\n",
    "plt.ylabel(\"Dec (°)\")\n",
    "plt.title(\"Target Celestial Object Motion Over Two Nights\")\n",
    "plt.legend()\n",
    "plt.grid()\n",
    "plt.show()\n"
   ]
  },
  {
   "cell_type": "markdown",
   "id": "08abac5d-d510-4898-a3d5-2766eb8b044e",
   "metadata": {},
   "source": [
    "#### 3. Enter Your local radius and latitude manually (Find and Enter your local radius manually)"
   ]
  },
  {
   "cell_type": "code",
   "execution_count": 4,
   "id": "3c4788b3-2760-431a-9c43-50ef9bb7865f",
   "metadata": {},
   "outputs": [
    {
     "name": "stdout",
     "output_type": "stream",
     "text": [
      "📍 Earth Rotation Speed Estimator 📍\n",
      "\n"
     ]
    },
    {
     "name": "stdin",
     "output_type": "stream",
     "text": [
      "Enter the local Earth's radius in km [default = 6371]:  6200\n",
      "Enter your latitude in degrees (positive for N, negative for S):  0\n"
     ]
    },
    {
     "name": "stdout",
     "output_type": "stream",
     "text": [
      "\n",
      "🌍 At latitude 0.0°, the Earth's rotation speed is approximately 1623.16 km/h.\n"
     ]
    }
   ],
   "source": [
    "\"\"\"\n",
    "Please search your latitude value and calculate your local Earth circle radius by the formula: R_local = R_earth * cos(latitude), \n",
    "and then get your number, input this number in the box\n",
    "\"\"\"\n",
    "\n",
    "import math\n",
    "\n",
    "def calculate_rotation_speed(radius_km: float, latitude_deg: float) -> float:\n",
    "    \"\"\"\n",
    "    Calculate the linear speed of Earth's rotation at a given latitude.\n",
    "    \n",
    "    Parameters:\n",
    "    - radius_km: Earth's radius at your location in kilometers (default ~6371 km)\n",
    "    - latitude_deg: Your geographical latitude in degrees (e.g., 30.0 for 30°N)\n",
    "    \n",
    "    Returns:\n",
    "    - Speed in kilometers per hour (km/h)\n",
    "    \"\"\"\n",
    "    # Convert latitude to radians\n",
    "    latitude_rad = math.radians(latitude_deg)\n",
    "\n",
    "    # Angular velocity of Earth: 2π radians / 24 hours\n",
    "    omega = 2 * math.pi / 24\n",
    "\n",
    "    # Linear speed formula: v = R * ω * cos(latitude)\n",
    "    speed = radius_km * omega * math.cos(latitude_rad)\n",
    "\n",
    "    return speed\n",
    "\n",
    "def main():\n",
    "    print(\"📍 Earth Rotation Speed Estimator 📍\\n\")\n",
    "    \n",
    "    try:\n",
    "        # Input from user\n",
    "        radius = float(input(\"Enter the local Earth's radius in km [default = 6371]: \") or \"6371\")\n",
    "        latitude = float(input(\"Enter your latitude in degrees (positive for N, negative for S): \"))\n",
    "\n",
    "        # Calculate speed\n",
    "        speed_kmh = calculate_rotation_speed(radius, latitude)\n",
    "        print(f\"\\n🌍 At latitude {latitude}°, the Earth's rotation speed is approximately {speed_kmh:.2f} km/h.\")\n",
    "\n",
    "    except ValueError:\n",
    "        print(\"❌ Invalid input. Please enter numerical values only.\")\n",
    "\n",
    "if __name__ == \"__main__\":\n",
    "    main()\n"
   ]
  },
  {
   "cell_type": "markdown",
   "id": "b5392292-19e3-474f-a988-1ce2a1568385",
   "metadata": {},
   "source": [
    "## V. Summary for this Basic Edition"
   ]
  },
  {
   "cell_type": "markdown",
   "id": "a350d2b7-5b35-4681-ae33-cf8b82240296",
   "metadata": {},
   "source": [
    "***Users can keep this Section (V) for their own note or memo***"
   ]
  }
 ],
 "metadata": {
  "kernelspec": {
   "display_name": "Python 3 (ipykernel)",
   "language": "python",
   "name": "python3"
  },
  "language_info": {
   "codemirror_mode": {
    "name": "ipython",
    "version": 3
   },
   "file_extension": ".py",
   "mimetype": "text/x-python",
   "name": "python",
   "nbconvert_exporter": "python",
   "pygments_lexer": "ipython3",
   "version": "3.8.18"
  }
 },
 "nbformat": 4,
 "nbformat_minor": 5
}
