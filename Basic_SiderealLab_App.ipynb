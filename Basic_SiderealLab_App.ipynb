{
 "cells": [
  {
   "cell_type": "markdown",
   "id": "00931102",
   "metadata": {},
   "source": [
    "# 🌍 SiderealLab - Interactive Web App\n",
    "This version allows users to calculate Earth's rotational speed based on latitude and time interval."
   ]
  },
  {
   "cell_type": "code",
   "execution_count": null,
   "id": "f8bd6456",
   "metadata": {},
   "outputs": [],
   "source": [
    "import numpy as np\n",
    "import ipywidgets as widgets\n",
    "from IPython.display import display, Markdown\n",
    "\n",
    "# 输入组件\n",
    "lat_input = widgets.FloatText(description='纬度 (°):', value=30.0)\n",
    "delta_t_input = widgets.FloatText(description='时间差 (秒):', value=86164.0)\n",
    "button = widgets.Button(description='计算速度', button_style='success')\n",
    "output = widgets.Output()\n",
    "\n",
    "# 回调函数\n",
    "def on_click(b):\n",
    "    with output:\n",
    "        output.clear_output()\n",
    "        lat = lat_input.value\n",
    "        delta_t = delta_t_input.value\n",
    "        R = 6371000  # 地球半径 (米)\n",
    "        v = 2 * np.pi * R * np.cos(np.radians(lat)) / delta_t\n",
    "        display(Markdown(f\"### 🌐 所在地线速度：`{v:.2f} m/s`\"))\n",
    "\n",
    "button.on_click(on_click)\n",
    "\n",
    "# 显示所有组件\n",
    "display(widgets.VBox([lat_input, delta_t_input, button, output]))\n"
   ]
  }
 ],
 "metadata": {},
 "nbformat": 4,
 "nbformat_minor": 5
}